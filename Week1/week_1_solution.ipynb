{
  "nbformat": 4,
  "nbformat_minor": 0,
  "metadata": {
    "colab": {
      "provenance": [],
      "gpuType": "T4"
    },
    "kernelspec": {
      "name": "python3",
      "display_name": "Python 3"
    },
    "language_info": {
      "name": "python"
    },
    "accelerator": "GPU"
  },
  "cells": [
    {
      "cell_type": "code",
      "execution_count": 1,
      "metadata": {
        "colab": {
          "base_uri": "https://localhost:8080/",
          "height": 35
        },
        "id": "yZDx0PxqSKxO",
        "outputId": "f1f92500-f2d1-47f4-d0c9-ce9c4f0131ff"
      },
      "outputs": [
        {
          "output_type": "execute_result",
          "data": {
            "text/plain": [
              "'2.5.1+cu121'"
            ],
            "application/vnd.google.colaboratory.intrinsic+json": {
              "type": "string"
            }
          },
          "metadata": {},
          "execution_count": 1
        }
      ],
      "source": [
        "import torch\n",
        "torch.__version__"
      ]
    },
    {
      "cell_type": "markdown",
      "source": [
        "Question1 Create a random tensor with shape (7, 7)."
      ],
      "metadata": {
        "id": "cGJq02wOJb3V"
      }
    },
    {
      "cell_type": "code",
      "source": [
        "random_tensor =torch.rand(7,7)\n"
      ],
      "metadata": {
        "id": "6zMJJIHQUSWe"
      },
      "execution_count": 2,
      "outputs": []
    },
    {
      "cell_type": "markdown",
      "source": [
        "Q2. Perform a matrix multiplication on the tensor from 2 with another random tensor with shape (1, 7) (hint: you may have to transpose the second tensor)."
      ],
      "metadata": {
        "id": "8UX6OSQ3JwEi"
      }
    },
    {
      "cell_type": "code",
      "source": [
        "random_tensor2 = torch.rand(1, 7)\n",
        "random_tensor2_transposed = random_tensor2.t()\n",
        "result = torch.matmul(random_tensor, random_tensor2_transposed)\n",
        "print(result)"
      ],
      "metadata": {
        "colab": {
          "base_uri": "https://localhost:8080/"
        },
        "id": "hx8LihmfWy1f",
        "outputId": "cc123ada-2064-4a95-97bc-98ef95b7bf7d"
      },
      "execution_count": null,
      "outputs": [
        {
          "output_type": "stream",
          "name": "stdout",
          "text": [
            "tensor([[1.2529],\n",
            "        [2.1690],\n",
            "        [1.6901],\n",
            "        [1.0751],\n",
            "        [1.0016],\n",
            "        [2.0415],\n",
            "        [1.5601]])\n"
          ]
        }
      ]
    },
    {
      "cell_type": "markdown",
      "source": [
        "Q3. Set the random seed to 0 and do 2 & 3 over again.\n",
        "The output should be:\n",
        "\n",
        "(tensor([[1.8542],\n",
        "         [1.9611],\n",
        "         [2.2884],\n",
        "         [3.0481],\n",
        "         [1.7067],\n",
        "         [2.5290],\n",
        "         [1.7989]]), torch.Size([7, 1]))"
      ],
      "metadata": {
        "id": "MmmVhWUEJ6sU"
      }
    },
    {
      "cell_type": "code",
      "source": [
        "torch.manual_seed(0)\n",
        "random_tensor = torch.rand(7, 7)\n",
        "random_tensor2 = torch.rand(1, 7)\n",
        "random_tensor2_transposed = random_tensor2.t()\n",
        "result = torch.matmul(random_tensor, random_tensor2_transposed)\n",
        "print(result, result.shape)"
      ],
      "metadata": {
        "colab": {
          "base_uri": "https://localhost:8080/"
        },
        "id": "PTQ-ZN9EeMzE",
        "outputId": "be4e774f-da41-4995-e3af-9dc05e5861a4"
      },
      "execution_count": null,
      "outputs": [
        {
          "output_type": "stream",
          "name": "stdout",
          "text": [
            "tensor([[1.8542],\n",
            "        [1.9611],\n",
            "        [2.2884],\n",
            "        [3.0481],\n",
            "        [1.7067],\n",
            "        [2.5290],\n",
            "        [1.7989]]) torch.Size([7, 1])\n"
          ]
        }
      ]
    },
    {
      "cell_type": "markdown",
      "source": [
        "Q4. Speaking of random seeds, we saw how to set it with torch.manual_seed() but is there a GPU equivalent? (hint: you'll need to look into the documentation for torch.cuda for this one)"
      ],
      "metadata": {
        "id": "n_1npkaaKJ19"
      }
    },
    {
      "cell_type": "code",
      "source": [
        "# Set the manual seed\n",
        "torch.manual_seed(1234)\n",
        "\n",
        "# Check if CUDA is available\n",
        "if torch.cuda.is_available():\n",
        "    device = torch.device('cuda')\n",
        "    print('Device:', device)\n",
        "else:\n",
        "    device = torch.device('cpu')\n",
        "    print('CUDA not available, using CPU instead.')\n",
        "\n",
        "# here, im creating two random tensors of shape (2, 3)\n",
        "tensor1 = torch.rand(2, 3, device=device)\n",
        "tensor2 = torch.rand(2, 3, device=device)\n",
        "\n",
        "# i am now Printing the tensors\n",
        "print(tensor1, tensor2)"
      ],
      "metadata": {
        "colab": {
          "base_uri": "https://localhost:8080/"
        },
        "id": "haopkhAGewus",
        "outputId": "e8c9e42a-52d7-4345-94e5-394e0358029b"
      },
      "execution_count": 3,
      "outputs": [
        {
          "output_type": "stream",
          "name": "stdout",
          "text": [
            "Device: cuda\n",
            "tensor([[0.1272, 0.8167, 0.5440],\n",
            "        [0.6601, 0.2721, 0.9737]], device='cuda:0') tensor([[0.6208, 0.0276, 0.3255],\n",
            "        [0.1114, 0.6812, 0.3608]], device='cuda:0')\n"
          ]
        }
      ]
    },
    {
      "cell_type": "markdown",
      "source": [
        "Q5. Create two random tensors of shape (2, 3) and send them both to the GPU (you'll need access to a GPU for this). Set torch.manual_seed(1234) when creating the tensors (this doesn't have to be the GPU random seed). The output should be something like:\n",
        "Device: cuda\n",
        "(tensor([[0.0290, 0.4019, 0.2598],\n",
        "         [0.3666, 0.0583, 0.7006]], device='cuda:0'),\n",
        " tensor([[0.0518, 0.4681, 0.6738],\n",
        "         [0.3315, 0.7837, 0.5631]], device='cuda:0'))"
      ],
      "metadata": {
        "id": "gHrzNCn-KxoU"
      }
    },
    {
      "cell_type": "code",
      "source": [
        "# i am setting the manual seed below\n",
        "torch.manual_seed(1234)\n",
        "\n",
        "# i am checking if CUDA is available with the below codes\n",
        "if torch.cuda.is_available():\n",
        "    device = torch.device('cuda')\n",
        "    print('Device:', device)\n",
        "else:\n",
        "    device = torch.device('cpu')\n",
        "    print('CUDA not available, using CPU instead.')\n",
        "\n",
        "# i am creating two random tensors of shape (2, 3) on the device\n",
        "tensor1 = torch.rand(2, 3, device=device)\n",
        "tensor2 = torch.rand(2, 3, device=device)\n",
        "\n",
        "# Transposing the second tensor to shape (3, 2)\n",
        "tensor2_transposed = tensor2.t()\n",
        "\n",
        "# Performing matrix multiplication\n",
        "result = torch.matmul(tensor1, tensor2_transposed)\n",
        "\n",
        "# Printing the result and its shape\n",
        "print(result, result.shape)"
      ],
      "metadata": {
        "colab": {
          "base_uri": "https://localhost:8080/"
        },
        "id": "lqThp8kshZFd",
        "outputId": "b3d5bb54-17eb-4bfe-8279-fbcbbe21ae23"
      },
      "execution_count": 8,
      "outputs": [
        {
          "output_type": "stream",
          "name": "stdout",
          "text": [
            "Device: cuda\n",
            "tensor([[0.2786, 0.7668],\n",
            "        [0.7343, 0.6102]], device='cuda:0') torch.Size([2, 2])\n"
          ]
        }
      ]
    },
    {
      "cell_type": "markdown",
      "source": [
        "Q6. Perform a matrix multiplication on the tensors you created in 6 (again, you may have to adjust the shapes of one of the tensors).\n",
        "The output should look like:\n",
        "\n",
        "(tensor([[0.3647, 0.4709],\n",
        "         [0.5184, 0.5617]], device='cuda:0'), torch.Size([2, 2]))"
      ],
      "metadata": {
        "id": "4VqpLTbFMTnm"
      }
    },
    {
      "cell_type": "code",
      "source": [
        "max_value = torch.max(result)\n",
        "min_value = torch.min(result)\n",
        "\n",
        "# Print the maximum and minimum values\n",
        "print(\"Maximum value:\", max_value.item())\n",
        "print(\"Minimum value:\", min_value.item())"
      ],
      "metadata": {
        "colab": {
          "base_uri": "https://localhost:8080/"
        },
        "id": "eLz8y90ZheG6",
        "outputId": "00a8d0f4-0eee-41cb-debf-4a87c38fe265"
      },
      "execution_count": 7,
      "outputs": [
        {
          "output_type": "stream",
          "name": "stdout",
          "text": [
            "Maximum value: 0.7667766809463501\n",
            "Minimum value: 0.27863210439682007\n"
          ]
        }
      ]
    },
    {
      "cell_type": "markdown",
      "source": [
        "Q7. Find the maximum and minimum index values of the output of question 6 above."
      ],
      "metadata": {
        "id": "dWfDYdMyMx7a"
      }
    },
    {
      "cell_type": "code",
      "source": [
        "# Find the indices of the maximum and minimum values\n",
        "max_index = torch.argmax(result)\n",
        "min_index = torch.argmin(result)\n",
        "\n",
        "# Print the indices\n",
        "print(\"Index of maximum value:\", max_index.item())\n",
        "print(\"Index of minimum value:\", min_index.item())"
      ],
      "metadata": {
        "colab": {
          "base_uri": "https://localhost:8080/"
        },
        "id": "a-Pg4ze3inl9",
        "outputId": "2935284d-3ecf-4ce4-e17d-8e23edf62396"
      },
      "execution_count": 9,
      "outputs": [
        {
          "output_type": "stream",
          "name": "stdout",
          "text": [
            "Index of maximum value: 1\n",
            "Index of minimum value: 0\n"
          ]
        }
      ]
    },
    {
      "cell_type": "markdown",
      "source": [
        "Make a random tensor with shape (1, 1, 1, 10) and then create a new tensor with all the 1 dimensions removed to be left with a tensor of shape (10). Set the seed to 7 when you create it and print out the first tensor and it's shape as well as the second tensor and it's shape."
      ],
      "metadata": {
        "id": "GMdzqDk4Pseb"
      }
    },
    {
      "cell_type": "code",
      "source": [
        "# Set the random seed\n",
        "torch.manual_seed(7)\n",
        "# Create a random tensor with shape (1, 1, 1, 10)\n",
        "tensor1 = torch.rand(1, 1, 1, 10)\n",
        "\n",
        "# Remove dimensions of size 1\n",
        "tensor2 = torch.squeeze(tensor1)\n",
        "\n",
        "# Print the tensors and their shapes\n",
        "print(\"First tensor:\", tensor1)\n",
        "print(\"Shape of first tensor:\", tensor1.shape)\n",
        "print(\"Second tensor:\", tensor2)\n",
        "print(\"Shape of second tensor:\", tensor2.shape)"
      ],
      "metadata": {
        "colab": {
          "base_uri": "https://localhost:8080/"
        },
        "id": "2MOOU72Mi7-U",
        "outputId": "a5905925-5a4a-41b4-a00e-cd3a3907c37a"
      },
      "execution_count": 10,
      "outputs": [
        {
          "output_type": "stream",
          "name": "stdout",
          "text": [
            "First tensor: tensor([[[[0.5349, 0.1988, 0.6592, 0.6569, 0.2328, 0.4251, 0.2071, 0.6297,\n",
            "           0.3653, 0.8513]]]])\n",
            "Shape of first tensor: torch.Size([1, 1, 1, 10])\n",
            "Second tensor: tensor([0.5349, 0.1988, 0.6592, 0.6569, 0.2328, 0.4251, 0.2071, 0.6297, 0.3653,\n",
            "        0.8513])\n",
            "Shape of second tensor: torch.Size([10])\n"
          ]
        }
      ]
    }
  ]
}